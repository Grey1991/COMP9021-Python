{
 "cells": [
  {
   "cell_type": "markdown",
   "metadata": {},
   "source": [
    "<h1 align=\"center\"> Comprehension</h1>"
   ]
  },
  {
   "cell_type": "code",
   "execution_count": 2,
   "metadata": {
    "collapsed": false
   },
   "outputs": [
    {
     "name": "stdout",
     "output_type": "stream",
     "text": [
      "[0, 9, 4, 25, 1]\n",
      "[9, 25, 1]\n",
      "\n",
      "{0, 9, 25, 1, 4}\n",
      "{9, 25, 1}\n",
      "\n",
      "{0: 0, 1: 1, 2: 4, 3: 9, 5: 25}\n",
      "{1: 1, 3: 9, 5: 25}\n",
      "\n",
      "(0, 9, 4, 25, 1)\n",
      "(9, 25, 1)\n",
      "[0, 9, 4, 25, 1]\n",
      "[9, 25, 1]\n",
      "{0, 9, 25, 1, 4}\n",
      "{9, 25, 1}\n",
      "{0: 0, 1: 1, 2: 4, 3: 9, 5: 25}\n",
      "{1: 1, 3: 9, 5: 25}\n",
      "\n",
      "[0, 1, 4, 9, 25]\n",
      "[25, 9, 4, 1, 0]\n"
     ]
    }
   ],
   "source": [
    "# A list for the examples, but more generally any iterable.\n",
    "L = [0, 3, 2, 5, 1]\n",
    "\n",
    "# List comprehension\n",
    "print([i * i for i in L])\n",
    "print([i * i for i in L if i % 2])\n",
    "print()\n",
    "# Set comprehension\n",
    "print({i * i for i in L})\n",
    "print({i * i for i in L if i % 2})\n",
    "print()\n",
    "# Dictionnary comprehension\n",
    "print({i: i * i for i in L})\n",
    "print({i: i * i for i in L if i % 2})\n",
    "print()\n",
    "# \"print((i: i * i for i in L))\" and \"print((i: i * i for i in L if i % 2)\" are invalid:\n",
    "# there is no tuple comprehension.\n",
    "# \"(i: i * i for i in L)\" and \"(i: i * i for i in L if i % 2)\" are generator expressions:\n",
    "# the call to \"tuple()\" in tuple((i: i * i for i in L))\",\n",
    "# the call to \"tuple((i: i * i for i in L if i % 2))\"\n",
    "# force the generator to produce all values;\n",
    "# the inner parentheses (for \"generator expression\") can be omitted.\n",
    "print(tuple(i * i for i in L))\n",
    "print(tuple(i * i for i in L if i % 2))\n",
    "# List, set and dictionnary comprehension can be achieved with a similar syntax:\n",
    "print(list(i * i for i in L))\n",
    "print(list(i * i for i in L if i % 2))\n",
    "print(set(i * i for i in L))\n",
    "print(set(i * i for i in L if i % 2))\n",
    "print(dict((i, i * i) for i in L))\n",
    "print(dict((i, i * i) for i in L if i % 2))\n",
    "print()\n",
    "# The parentheses for \"generator expression\" can be ommitted here too:\n",
    "print(sorted(i * i for i in L))\n",
    "# But they cannot be ommitted here:\n",
    "print(sorted((i * i for i in L), reverse = True))"
   ]
  },
  {
   "cell_type": "code",
   "execution_count": null,
   "metadata": {
    "collapsed": false
   },
   "outputs": [],
   "source": [
    "M = [[[111, 112, 113],\n",
    "      [121, 122, 123],\n",
    "      [131, 132, 133]],\n",
    "     [[211, 212, 213],\n",
    "      [221, 222, 223],\n",
    "      [231, 232, 233]]]\n",
    "\n",
    "print([            2 * element\n",
    "       for three_rows in M\n",
    "           for row in three_rows\n",
    "               for element in row])\n",
    "print([   [   [    2 * element\n",
    "               for element in row]\n",
    "           for row in three_rows]\n",
    "       for three_rows in M])\n",
    "print()\n",
    "print([            2 * element\n",
    "       for three_rows in M\n",
    "         if three_rows[0][0] // 100 % 2\n",
    "           for row in three_rows\n",
    "             if row[0] // 10 % 2\n",
    "               for element in row\n",
    "                 if element % 2])\n",
    "print([   [   [    2 * element\n",
    "               for element in row \n",
    "                 if element % 2]\n",
    "           for row in three_rows \n",
    "             if row[0] // 10 % 2]\n",
    "       for three_rows in M \n",
    "         if three_rows[0][0] // 100 % 2])"
   ]
  }
 ],
 "metadata": {
  "kernelspec": {
   "display_name": "Python 3",
   "language": "python",
   "name": "python3"
  },
  "language_info": {
   "codemirror_mode": {
    "name": "ipython",
    "version": 3
   },
   "file_extension": ".py",
   "mimetype": "text/x-python",
   "name": "python",
   "nbconvert_exporter": "python",
   "pygments_lexer": "ipython3",
   "version": "3.4.3"
  }
 },
 "nbformat": 4,
 "nbformat_minor": 0
}
