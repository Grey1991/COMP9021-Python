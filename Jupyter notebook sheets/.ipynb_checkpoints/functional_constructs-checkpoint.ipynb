{
 "cells": [
  {
   "cell_type": "markdown",
   "metadata": {},
   "source": [
    "<h1 align=\"center\"> Comprehension</h1>"
   ]
  },
  {
   "cell_type": "markdown",
   "metadata": {},
   "source": [
    "## List comprehension"
   ]
  },
  {
   "cell_type": "code",
   "execution_count": null,
   "metadata": {
    "collapsed": false
   },
   "outputs": [],
   "source": [
    "M = [[[111, 112, 113],\n",
    "      [121, 122, 123],\n",
    "      [131, 132, 133]],\n",
    "     [[211, 212, 213],\n",
    "      [221, 222, 223],\n",
    "      [231, 232, 233]]]\n",
    "\n",
    "print([            2 * element\n",
    "       for three_rows in M\n",
    "           for row in three_rows\n",
    "               for element in row])\n",
    "print([   [   [    2 * element\n",
    "               for element in row]\n",
    "           for row in three_rows]\n",
    "       for three_rows in M])\n",
    "print()\n",
    "print([            2 * element\n",
    "       for three_rows in M\n",
    "         if three_rows[0][0] // 100 % 2\n",
    "           for row in three_rows\n",
    "             if row[0] // 10 % 2\n",
    "               for element in row\n",
    "                 if element % 2])\n",
    "print([   [   [    2 * element\n",
    "               for element in row \n",
    "                 if element % 2]\n",
    "           for row in three_rows \n",
    "             if row[0] // 10 % 2]\n",
    "       for three_rows in M \n",
    "         if three_rows[0][0] // 100 % 2])"
   ]
  },
  {
   "cell_type": "markdown",
   "metadata": {},
   "source": [
    "## Generators"
   ]
  },
  {
   "cell_type": "code",
   "execution_count": null,
   "metadata": {
    "collapsed": false
   },
   "outputs": [],
   "source": [
    "from random import randrange\n",
    "\n",
    "def randomly_generate_random_nonmultiples_of_ten_between_0_and_99():\n",
    "    while True:\n",
    "        digit = randrange(0, 100)\n",
    "        if digit % 10:\n",
    "            yield digit\n",
    "        else:\n",
    "            return\n",
    "\n",
    "generator = randomly_generate_random_nonmultiples_of_ten_between_0_and_99()\n",
    "while True:\n",
    "    try:\n",
    "        # Alternative: print(generator.__next__())\n",
    "        print(next(generator))\n",
    "    except StopIteration:\n",
    "        print('A multiple of 10 was generated, which ended the process')\n",
    "        break"
   ]
  },
  {
   "cell_type": "code",
   "execution_count": null,
   "metadata": {
    "collapsed": false
   },
   "outputs": [],
   "source": [
    "def yield_and_send():\n",
    "    sent = None\n",
    "    i = 0\n",
    "    while True:\n",
    "        if sent == None:\n",
    "            # \"i\" is generated.\n",
    "            # - If that follows a call to \"__next__()\",\n",
    "            #   \"sent\" then receives the value None.\n",
    "            # - If that follows a call to \"send()\",\n",
    "            #   \"sent\" then receives the value passed as an argument to \"send()\".\n",
    "            sent = yield i\n",
    "        elif sent == 'stop':\n",
    "            return\n",
    "        else:\n",
    "            # Same as above, except that it is \"sent + i\" that is generated.\n",
    "            sent = yield sent + i\n",
    "        i += 1\n",
    "\n",
    "generator = yield_and_send()\n",
    "# First \"next()\" has to be issued, \"send()\" cannot be issued.\n",
    "print(next(generator))\n",
    "# Now either \"next()\" or \"send()\" can be issued:\n",
    "# \"yield i\" has last been executed; \n",
    "# which of \"__next__()\" or \"send()\" will be called\n",
    "# will determine the value that \"sent\" will receive.\n",
    "print(next(generator))\n",
    "print(next(generator))\n",
    "print(generator.send(10))\n",
    "print(generator.send(20))\n",
    "print(next(generator))\n",
    "print(generator.send(30))\n",
    "print(next(generator))\n",
    "print(next(generator))\n",
    "try:\n",
    "    print(generator.send('stop'))\n",
    "except StopIteration:\n",
    "    print('Generation has been stopped')"
   ]
  }
 ],
 "metadata": {
  "kernelspec": {
   "display_name": "Python 3",
   "language": "python",
   "name": "python3"
  },
  "language_info": {
   "codemirror_mode": {
    "name": "ipython",
    "version": 3
   },
   "file_extension": ".py",
   "mimetype": "text/x-python",
   "name": "python",
   "nbconvert_exporter": "python",
   "pygments_lexer": "ipython3",
   "version": "3.4.3"
  }
 },
 "nbformat": 4,
 "nbformat_minor": 0
}
